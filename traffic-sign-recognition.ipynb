{
 "cells": [
  {
   "cell_type": "code",
   "execution_count": 1,
   "metadata": {
    "execution": {
     "iopub.execute_input": "2021-03-29T15:13:47.941257Z",
     "iopub.status.busy": "2021-03-29T15:13:47.940711Z",
     "iopub.status.idle": "2021-03-29T15:13:53.460421Z",
     "shell.execute_reply": "2021-03-29T15:13:53.458948Z"
    },
    "papermill": {
     "duration": 5.534526,
     "end_time": "2021-03-29T15:13:53.460614",
     "exception": false,
     "start_time": "2021-03-29T15:13:47.926088",
     "status": "completed"
    },
    "tags": []
   },
   "outputs": [],
   "source": [
    "# Importing Required Libraries\n",
    "\n",
    "import numpy as np \n",
    "import pandas as pd \n",
    "import matplotlib.pyplot as plt\n",
    "import cv2\n",
    "import tensorflow as tf\n",
    "from PIL import Image\n",
    "import os\n",
    "import keras\n",
    "from sklearn.model_selection import train_test_split\n",
    "from keras.utils import to_categorical\n",
    "from keras.models import Sequential, load_model\n",
    "from keras.layers import Conv2D, MaxPool2D, Dense, Flatten, Dropout\n",
    "from tensorflow.keras.preprocessing.image import ImageDataGenerator\n",
    "\n"
   ]
  },
  {
   "cell_type": "code",
   "execution_count": 2,
   "metadata": {
    "execution": {
     "iopub.execute_input": "2021-03-29T15:13:53.482361Z",
     "iopub.status.busy": "2021-03-29T15:13:53.481532Z",
     "iopub.status.idle": "2021-03-29T15:13:53.483956Z",
     "shell.execute_reply": "2021-03-29T15:13:53.483510Z"
    },
    "papermill": {
     "duration": 0.014766,
     "end_time": "2021-03-29T15:13:53.484061",
     "exception": false,
     "start_time": "2021-03-29T15:13:53.469295",
     "status": "completed"
    },
    "tags": []
   },
   "outputs": [],
   "source": [
    "# Collect data\n",
    "\n",
    "data_dir = '../input/gtsrb-german-traffic-sign'\n",
    "train_path = '../input/gtsrb-german-traffic-sign/Train'\n",
    "\n",
    "\n",
    "# Resizing the images to 30x30x3\n",
    "\n",
    "height = 30\n",
    "width = 30\n",
    "channels = 3"
   ]
  },
  {
   "cell_type": "code",
   "execution_count": 3,
   "metadata": {
    "execution": {
     "iopub.execute_input": "2021-03-29T15:13:53.503163Z",
     "iopub.status.busy": "2021-03-29T15:13:53.502641Z",
     "iopub.status.idle": "2021-03-29T15:13:53.520698Z",
     "shell.execute_reply": "2021-03-29T15:13:53.521175Z"
    },
    "papermill": {
     "duration": 0.029301,
     "end_time": "2021-03-29T15:13:53.521305",
     "exception": false,
     "start_time": "2021-03-29T15:13:53.492004",
     "status": "completed"
    },
    "tags": []
   },
   "outputs": [
    {
     "data": {
      "text/plain": [
       "43"
      ]
     },
     "execution_count": 3,
     "metadata": {},
     "output_type": "execute_result"
    }
   ],
   "source": [
    "data = []\n",
    "labels = []\n",
    "NUM_CATEGORIES = len(os.listdir(train_path))\n",
    "NUM_CATEGORIES"
   ]
  },
  {
   "cell_type": "code",
   "execution_count": 4,
   "metadata": {
    "execution": {
     "iopub.execute_input": "2021-03-29T15:13:53.543495Z",
     "iopub.status.busy": "2021-03-29T15:13:53.542972Z",
     "iopub.status.idle": "2021-03-29T15:17:37.130126Z",
     "shell.execute_reply": "2021-03-29T15:17:37.129011Z"
    },
    "papermill": {
     "duration": 223.600318,
     "end_time": "2021-03-29T15:17:37.130286",
     "exception": false,
     "start_time": "2021-03-29T15:13:53.529968",
     "status": "completed"
    },
    "tags": []
   },
   "outputs": [],
   "source": [
    "# prepairng data and labels\n",
    "\n",
    "for i in range(NUM_CATEGORIES):\n",
    "    path = os.path.join(train_path,str(i))\n",
    "    images = os.listdir(path)\n",
    "    \n",
    "    for a in images:\n",
    "       \n",
    "            image = Image.open(path + '/' + a)\n",
    "            image = image.resize((height,width))\n",
    "            image = np.array(image)\n",
    "            #sim = Image.fromarray(image)\n",
    "            data.append(image)\n",
    "            labels.append(i)\n",
    "        \n",
    "            \n",
    "        \n",
    "            \n",
    "\n",
    "data = np.array(data)      \n",
    "labels = np.array(labels)           "
   ]
  },
  {
   "cell_type": "code",
   "execution_count": 5,
   "metadata": {
    "execution": {
     "iopub.execute_input": "2021-03-29T15:17:37.158425Z",
     "iopub.status.busy": "2021-03-29T15:17:37.157285Z",
     "iopub.status.idle": "2021-03-29T15:17:37.461091Z",
     "shell.execute_reply": "2021-03-29T15:17:37.461489Z"
    },
    "papermill": {
     "duration": 0.32202,
     "end_time": "2021-03-29T15:17:37.461643",
     "exception": false,
     "start_time": "2021-03-29T15:17:37.139623",
     "status": "completed"
    },
    "tags": []
   },
   "outputs": [
    {
     "name": "stdout",
     "output_type": "stream",
     "text": [
      "(39209, 30, 30, 3) (39209,)\n",
      "(31367, 30, 30, 3) (7842, 30, 30, 3) (31367,) (7842,)\n"
     ]
    }
   ],
   "source": [
    "print(data.shape,labels.shape)\n",
    "\n",
    "X_train, X_test, Y_train, Y_test = train_test_split(data,labels,test_size=0.2,random_state=42, shuffle=True)\n",
    "\n",
    "X_train = X_train/255 \n",
    "X_test = X_test/255\n",
    "\n",
    "print(X_train.shape,X_test.shape,Y_train.shape,Y_test.shape)\n"
   ]
  },
  {
   "cell_type": "code",
   "execution_count": 6,
   "metadata": {
    "execution": {
     "iopub.execute_input": "2021-03-29T15:17:37.486465Z",
     "iopub.status.busy": "2021-03-29T15:17:37.484751Z",
     "iopub.status.idle": "2021-03-29T15:17:37.491051Z",
     "shell.execute_reply": "2021-03-29T15:17:37.490333Z"
    },
    "papermill": {
     "duration": 0.020003,
     "end_time": "2021-03-29T15:17:37.491195",
     "exception": false,
     "start_time": "2021-03-29T15:17:37.471192",
     "status": "completed"
    },
    "tags": []
   },
   "outputs": [
    {
     "name": "stdout",
     "output_type": "stream",
     "text": [
      "(31367, 43)\n",
      "(7842, 43)\n"
     ]
    }
   ],
   "source": [
    "Y_train=keras.utils.to_categorical(Y_train,NUM_CATEGORIES)\n",
    "Y_test= keras.utils.to_categorical(Y_test,NUM_CATEGORIES)\n",
    "\n",
    "print(Y_train.shape)\n",
    "print(Y_test.shape)"
   ]
  },
  {
   "cell_type": "code",
   "execution_count": 7,
   "metadata": {
    "execution": {
     "iopub.execute_input": "2021-03-29T15:17:37.520227Z",
     "iopub.status.busy": "2021-03-29T15:17:37.519702Z",
     "iopub.status.idle": "2021-03-29T15:17:40.286903Z",
     "shell.execute_reply": "2021-03-29T15:17:40.286217Z"
    },
    "papermill": {
     "duration": 2.785441,
     "end_time": "2021-03-29T15:17:40.287096",
     "exception": false,
     "start_time": "2021-03-29T15:17:37.501655",
     "status": "completed"
    },
    "tags": []
   },
   "outputs": [
    {
     "name": "stdout",
     "output_type": "stream",
     "text": [
      "Model: \"sequential\"\n",
      "_________________________________________________________________\n",
      "Layer (type)                 Output Shape              Param #   \n",
      "=================================================================\n",
      "conv2d (Conv2D)              (None, 28, 28, 32)        896       \n",
      "_________________________________________________________________\n",
      "conv2d_1 (Conv2D)            (None, 26, 26, 32)        9248      \n",
      "_________________________________________________________________\n",
      "max_pooling2d (MaxPooling2D) (None, 13, 13, 32)        0         \n",
      "_________________________________________________________________\n",
      "dropout (Dropout)            (None, 13, 13, 32)        0         \n",
      "_________________________________________________________________\n",
      "conv2d_2 (Conv2D)            (None, 11, 11, 64)        18496     \n",
      "_________________________________________________________________\n",
      "conv2d_3 (Conv2D)            (None, 9, 9, 64)          36928     \n",
      "_________________________________________________________________\n",
      "max_pooling2d_1 (MaxPooling2 (None, 4, 4, 64)          0         \n",
      "_________________________________________________________________\n",
      "dropout_1 (Dropout)          (None, 4, 4, 64)          0         \n",
      "_________________________________________________________________\n",
      "flatten (Flatten)            (None, 1024)              0         \n",
      "_________________________________________________________________\n",
      "dense (Dense)                (None, 512)               524800    \n",
      "_________________________________________________________________\n",
      "dropout_2 (Dropout)          (None, 512)               0         \n",
      "_________________________________________________________________\n",
      "dense_1 (Dense)              (None, 43)                22059     \n",
      "=================================================================\n",
      "Total params: 612,427\n",
      "Trainable params: 612,427\n",
      "Non-trainable params: 0\n",
      "_________________________________________________________________\n"
     ]
    }
   ],
   "source": [
    "# Building model\n",
    "\n",
    "model = Sequential()\n",
    "\n",
    "model.add(Conv2D(filters=32, kernel_size=(3,3), activation='relu', input_shape=(height,width,3)))\n",
    "model.add(Conv2D(filters=32, kernel_size=(3,3), activation='relu'))\n",
    "model.add(MaxPool2D(pool_size=(2, 2)))\n",
    "model.add(Dropout(rate=0.25))\n",
    "\n",
    "model.add(Conv2D(filters=64, kernel_size=(3, 3), activation='relu'))\n",
    "model.add(Conv2D(filters=64, kernel_size=(3, 3), activation='relu'))\n",
    "model.add(MaxPool2D(pool_size=(2, 2)))\n",
    "model.add(Dropout(rate=0.25))\n",
    "\n",
    "model.add(Flatten())\n",
    "model.add(Dense(512, activation='relu'))\n",
    "model.add(Dropout(rate=0.5))\n",
    "model.add(Dense(NUM_CATEGORIES, activation='softmax'))\n",
    "\n",
    "model.summary()\n",
    "\n",
    "\n",
    "\n"
   ]
  },
  {
   "cell_type": "code",
   "execution_count": 8,
   "metadata": {
    "execution": {
     "iopub.execute_input": "2021-03-29T15:17:40.317446Z",
     "iopub.status.busy": "2021-03-29T15:17:40.315523Z",
     "iopub.status.idle": "2021-03-29T15:17:40.322421Z",
     "shell.execute_reply": "2021-03-29T15:17:40.321628Z"
    },
    "papermill": {
     "duration": 0.02534,
     "end_time": "2021-03-29T15:17:40.322525",
     "exception": false,
     "start_time": "2021-03-29T15:17:40.297185",
     "status": "completed"
    },
    "tags": []
   },
   "outputs": [],
   "source": [
    "# Compiling model\n",
    "\n",
    "model.compile(loss='categorical_crossentropy', optimizer='adam', metrics=['accuracy'])"
   ]
  },
  {
   "cell_type": "code",
   "execution_count": 9,
   "metadata": {
    "execution": {
     "iopub.execute_input": "2021-03-29T15:17:40.347910Z",
     "iopub.status.busy": "2021-03-29T15:17:40.346301Z",
     "iopub.status.idle": "2021-03-29T15:17:40.348559Z",
     "shell.execute_reply": "2021-03-29T15:17:40.348959Z"
    },
    "papermill": {
     "duration": 0.016626,
     "end_time": "2021-03-29T15:17:40.349075",
     "exception": false,
     "start_time": "2021-03-29T15:17:40.332449",
     "status": "completed"
    },
    "tags": []
   },
   "outputs": [],
   "source": [
    "# Augmenting the data to get high accuracy\n",
    "\n",
    "aug = ImageDataGenerator(\n",
    "    rotation_range=10,\n",
    "    zoom_range=0.15,\n",
    "    width_shift_range=0.1,\n",
    "    height_shift_range=0.1,\n",
    "    shear_range=0.15,\n",
    "    horizontal_flip=False,\n",
    "    vertical_flip=False,\n",
    "    fill_mode=\"nearest\")\n",
    "\n"
   ]
  },
  {
   "cell_type": "code",
   "execution_count": 10,
   "metadata": {
    "execution": {
     "iopub.execute_input": "2021-03-29T15:17:40.373745Z",
     "iopub.status.busy": "2021-03-29T15:17:40.372794Z",
     "iopub.status.idle": "2021-03-29T15:22:00.379725Z",
     "shell.execute_reply": "2021-03-29T15:22:00.379223Z"
    },
    "papermill": {
     "duration": 260.020833,
     "end_time": "2021-03-29T15:22:00.379858",
     "exception": false,
     "start_time": "2021-03-29T15:17:40.359025",
     "status": "completed"
    },
    "tags": []
   },
   "outputs": [
    {
     "name": "stdout",
     "output_type": "stream",
     "text": [
      "Epoch 1/15\n",
      "981/981 [==============================] - 21s 18ms/step - loss: 2.5712 - accuracy: 0.2783 - val_loss: 0.3333 - val_accuracy: 0.9074\n",
      "Epoch 2/15\n",
      "981/981 [==============================] - 17s 17ms/step - loss: 0.6924 - accuracy: 0.7806 - val_loss: 0.0704 - val_accuracy: 0.9828\n",
      "Epoch 3/15\n",
      "981/981 [==============================] - 17s 18ms/step - loss: 0.3328 - accuracy: 0.8923 - val_loss: 0.0354 - val_accuracy: 0.9909\n",
      "Epoch 4/15\n",
      "981/981 [==============================] - 17s 18ms/step - loss: 0.2459 - accuracy: 0.9230 - val_loss: 0.0254 - val_accuracy: 0.9932\n",
      "Epoch 5/15\n",
      "981/981 [==============================] - 16s 17ms/step - loss: 0.1843 - accuracy: 0.9419 - val_loss: 0.0183 - val_accuracy: 0.9957\n",
      "Epoch 6/15\n",
      "981/981 [==============================] - 18s 18ms/step - loss: 0.1423 - accuracy: 0.9556 - val_loss: 0.0415 - val_accuracy: 0.9880\n",
      "Epoch 7/15\n",
      "981/981 [==============================] - 17s 17ms/step - loss: 0.1421 - accuracy: 0.9561 - val_loss: 0.0127 - val_accuracy: 0.9963\n",
      "Epoch 8/15\n",
      "981/981 [==============================] - 17s 17ms/step - loss: 0.1354 - accuracy: 0.9600 - val_loss: 0.0137 - val_accuracy: 0.9967\n",
      "Epoch 9/15\n",
      "981/981 [==============================] - 17s 17ms/step - loss: 0.1146 - accuracy: 0.9660 - val_loss: 0.0114 - val_accuracy: 0.9962\n",
      "Epoch 10/15\n",
      "981/981 [==============================] - 17s 17ms/step - loss: 0.1131 - accuracy: 0.9652 - val_loss: 0.0094 - val_accuracy: 0.9971\n",
      "Epoch 11/15\n",
      "981/981 [==============================] - 17s 17ms/step - loss: 0.1037 - accuracy: 0.9682 - val_loss: 0.0067 - val_accuracy: 0.9977\n",
      "Epoch 12/15\n",
      "981/981 [==============================] - 17s 18ms/step - loss: 0.0929 - accuracy: 0.9739 - val_loss: 0.0116 - val_accuracy: 0.9966\n",
      "Epoch 13/15\n",
      "981/981 [==============================] - 18s 18ms/step - loss: 0.0956 - accuracy: 0.9708 - val_loss: 0.0075 - val_accuracy: 0.9974\n",
      "Epoch 14/15\n",
      "981/981 [==============================] - 17s 17ms/step - loss: 0.0915 - accuracy: 0.9734 - val_loss: 0.0106 - val_accuracy: 0.9972\n",
      "Epoch 15/15\n",
      "981/981 [==============================] - 17s 18ms/step - loss: 0.0854 - accuracy: 0.9749 - val_loss: 0.0079 - val_accuracy: 0.9972\n"
     ]
    }
   ],
   "source": [
    "batch_size = 32\n",
    "epochs = 15\n",
    "\n",
    "history = model.fit(aug.flow(X_train,Y_train,batch_size=batch_size),\n",
    "                    epochs=epochs, validation_data=(X_test, Y_test) )\n",
    "\n"
   ]
  },
  {
   "cell_type": "code",
   "execution_count": 11,
   "metadata": {
    "execution": {
     "iopub.execute_input": "2021-03-29T15:22:02.454285Z",
     "iopub.status.busy": "2021-03-29T15:22:02.453436Z",
     "iopub.status.idle": "2021-03-29T15:22:02.902928Z",
     "shell.execute_reply": "2021-03-29T15:22:02.902507Z"
    },
    "papermill": {
     "duration": 1.487747,
     "end_time": "2021-03-29T15:22:02.903067",
     "exception": false,
     "start_time": "2021-03-29T15:22:01.415320",
     "status": "completed"
    },
    "tags": []
   },
   "outputs": [
    {
     "data": {
      "image/png": "[encoded data removed]",
      "text/plain": [
       "<Figure size 432x288 with 1 Axes>"
      ]
     },
     "metadata": {
      "needs_background": "light"
     },
     "output_type": "display_data"
    },
    {
     "data": {
      "image/png": "[encoded data removed]",
      "text/plain": [
       "<Figure size 432x288 with 1 Axes>"
      ]
     },
     "metadata": {
      "needs_background": "light"
     },
     "output_type": "display_data"
    }
   ],
   "source": [
    "# plotting graphs for accuracy \n",
    "\n",
    "plt.figure(0)\n",
    "plt.plot(history.history['accuracy'], label='training accuracy')\n",
    "plt.plot(history.history['val_accuracy'], label='val accuracy')\n",
    "plt.title('Accuracy')\n",
    "plt.xlabel('epochs')\n",
    "plt.ylabel('accuracy')\n",
    "plt.legend()\n",
    "plt.show()\n",
    "\n",
    "plt.figure(1)\n",
    "plt.plot(history.history['loss'], label='training loss')\n",
    "plt.plot(history.history['val_loss'], label='val loss')\n",
    "plt.title('Loss')\n",
    "plt.xlabel('epochs')\n",
    "plt.ylabel('loss')\n",
    "plt.legend()\n",
    "plt.show()"
   ]
  },
  {
   "cell_type": "code",
   "execution_count": 12,
   "metadata": {
    "execution": {
     "iopub.execute_input": "2021-03-29T15:22:04.926101Z",
     "iopub.status.busy": "2021-03-29T15:22:04.925541Z",
     "iopub.status.idle": "2021-03-29T15:23:18.698232Z",
     "shell.execute_reply": "2021-03-29T15:23:18.697266Z"
    },
    "papermill": {
     "duration": 74.789205,
     "end_time": "2021-03-29T15:23:18.698381",
     "exception": false,
     "start_time": "2021-03-29T15:22:03.909176",
     "status": "completed"
    },
    "tags": []
   },
   "outputs": [],
   "source": [
    "# prepairng test data\n",
    "\n",
    "test = pd.read_csv(data_dir + '/Test.csv')\n",
    "\n",
    "labels = test[\"ClassId\"].values\n",
    "images = test[\"Path\"].values\n",
    "\n",
    "data=[]\n",
    "\n",
    "for a in images:\n",
    "        \n",
    "            image = Image.open(data_dir + '/' + a)\n",
    "            image = image.resize((height,width))\n",
    "            image = np.array(image)\n",
    "            data.append(image)\n",
    "            "
   ]
  },
  {
   "cell_type": "code",
   "execution_count": 13,
   "metadata": {
    "execution": {
     "iopub.execute_input": "2021-03-29T15:23:20.743371Z",
     "iopub.status.busy": "2021-03-29T15:23:20.742641Z",
     "iopub.status.idle": "2021-03-29T15:23:20.851093Z",
     "shell.execute_reply": "2021-03-29T15:23:20.850584Z"
    },
    "papermill": {
     "duration": 1.147395,
     "end_time": "2021-03-29T15:23:20.851219",
     "exception": false,
     "start_time": "2021-03-29T15:23:19.703824",
     "status": "completed"
    },
    "tags": []
   },
   "outputs": [],
   "source": [
    "X_pred = np.array(data)\n",
    "X_pred = X_pred/255"
   ]
  },
  {
   "cell_type": "code",
   "execution_count": 14,
   "metadata": {
    "execution": {
     "iopub.execute_input": "2021-03-29T15:23:22.874134Z",
     "iopub.status.busy": "2021-03-29T15:23:22.873393Z",
     "iopub.status.idle": "2021-03-29T15:23:23.568747Z",
     "shell.execute_reply": "2021-03-29T15:23:23.567968Z"
    },
    "papermill": {
     "duration": 1.710611,
     "end_time": "2021-03-29T15:23:23.568886",
     "exception": false,
     "start_time": "2021-03-29T15:23:21.858275",
     "status": "completed"
    },
    "tags": []
   },
   "outputs": [
    {
     "name": "stderr",
     "output_type": "stream",
     "text": [
      "/opt/conda/lib/python3.7/site-packages/tensorflow/python/keras/engine/sequential.py:450: UserWarning: `model.predict_classes()` is deprecated and will be removed after 2021-01-01. Please use instead:* `np.argmax(model.predict(x), axis=-1)`,   if your model does multi-class classification   (e.g. if it uses a `softmax` last-layer activation).* `(model.predict(x) > 0.5).astype(\"int32\")`,   if your model does binary classification   (e.g. if it uses a `sigmoid` last-layer activation).\n",
      "  warnings.warn('`model.predict_classes()` is deprecated and '\n"
     ]
    }
   ],
   "source": [
    "# Predicting\n",
    "\n",
    "pred = model.predict_classes(X_pred)"
   ]
  },
  {
   "cell_type": "code",
   "execution_count": 15,
   "metadata": {
    "execution": {
     "iopub.execute_input": "2021-03-29T15:23:25.587164Z",
     "iopub.status.busy": "2021-03-29T15:23:25.584512Z",
     "iopub.status.idle": "2021-03-29T15:23:25.591053Z",
     "shell.execute_reply": "2021-03-29T15:23:25.591720Z"
    },
    "papermill": {
     "duration": 1.017417,
     "end_time": "2021-03-29T15:23:25.591898",
     "exception": false,
     "start_time": "2021-03-29T15:23:24.574481",
     "status": "completed"
    },
    "tags": []
   },
   "outputs": [
    {
     "name": "stdout",
     "output_type": "stream",
     "text": [
      "Test Data accuracy:  98.09184481393508\n"
     ]
    }
   ],
   "source": [
    "from sklearn.metrics import accuracy_score\n",
    "\n",
    "print('Test Data accuracy: ',accuracy_score(labels, pred)*100)"
   ]
  }
 ],
 "metadata": {
  "kernelspec": {
   "display_name": "Python 3",
   "language": "python",
   "name": "python3"
  },
  "language_info": {
   "codemirror_mode": {
    "name": "ipython",
    "version": 3
   },
   "file_extension": ".py",
   "mimetype": "text/x-python",
   "name": "python",
   "nbconvert_exporter": "python",
   "pygments_lexer": "ipython3",
   "version": "3.7.9"
  },
  "papermill": {
   "default_parameters": {},
   "duration": 585.948946,
   "end_time": "2021-03-29T15:23:29.055062",
   "environment_variables": {},
   "exception": null,
   "input_path": "__notebook__.ipynb",
   "output_path": "__notebook__.ipynb",
   "parameters": {},
   "start_time": "2021-03-29T15:13:43.106116",
   "version": "2.2.2"
  }
 },
 "nbformat": 4,
 "nbformat_minor": 4
}
